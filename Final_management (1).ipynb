{
 "cells": [
  {
   "cell_type": "code",
   "execution_count": 8,
   "metadata": {},
   "outputs": [
    {
     "name": "stdout",
     "output_type": "stream",
     "text": [
      "Requirement already satisfied: snmp in d:\\ml\\lib\\site-packages (0.1.7)\n",
      "Note: you may need to restart the kernel to use updated packages.\n"
     ]
    }
   ],
   "source": [
    "pip install snmp"
   ]
  },
  {
   "cell_type": "code",
   "execution_count": 104,
   "metadata": {},
   "outputs": [
    {
     "name": "stderr",
     "output_type": "stream",
     "text": [
      "DEBUG:snmp.v1:Sent request to 172.20.10.5 (ID=1233946847)\n",
      "DEBUG:snmp.v1:Done processing response from 172.20.10.5 (ID=1233946847)\n",
      "DEBUG:snmp.v1:Sent request to 172.20.10.5 (ID=-1827073602)\n",
      "DEBUG:snmp.v1:Done processing response from 172.20.10.5 (ID=-1827073602)\n",
      "DEBUG:snmp.v1:SET request sent to 172.20.10.5 (ID=-593126755):\n",
      "SetRequestPDU:\n",
      "\tINTEGER: -593126755\n",
      "\tINTEGER: 0\n",
      "\tINTEGER: 0\n",
      "\tVarBindList:\n",
      "\t\tVarBind:\n",
      "\t\t\tOID: '1.3.6.1.2.1.4.2.0'\n",
      "\t\t\tINTEGER: 8\n",
      "\n",
      "DEBUG:snmp.v1:Done processing response from 172.20.10.5 (ID=-593126755)\n",
      "DEBUG:snmp.v1:Sent request to 172.20.10.2 (ID=640820092)\n",
      "DEBUG:snmp.v1:Sent request to 172.20.10.2 (ID=1874766939)\n",
      "DEBUG:snmp.v1:Done processing response from 172.20.10.2 (ID=640820092)\n",
      "DEBUG:snmp.v1:Done processing response from 172.20.10.2 (ID=1874766939)\n",
      "DEBUG:snmp.v1:SET request sent to 172.20.10.2 (ID=-1186253510):\n",
      "SetRequestPDU:\n",
      "\tINTEGER: -1186253510\n",
      "\tINTEGER: 0\n",
      "\tINTEGER: 0\n",
      "\tVarBindList:\n",
      "\t\tVarBind:\n",
      "\t\t\tOID: '1.3.6.1.2.1.4.2.0'\n",
      "\t\t\tINTEGER: 8\n",
      "\n",
      "DEBUG:snmp.v1:Done processing response from 172.20.10.2 (ID=-1186253510)\n",
      "DEBUG:snmp.v1:Sending shutdown signal to helper threads\n",
      "DEBUG:snmp.v1:Monitor thread exiting\n"
     ]
    },
    {
     "name": "stdout",
     "output_type": "stream",
     "text": [
      "172.20.10.5\n",
      "VarBind:\n",
      "\tOID: '1.3.6.1.2.1.1.4.0'\n",
      "\tOCTET_STRING: b'NOURAN'\n",
      "\n",
      "VarBind:\n",
      "\tOID: '1.3.6.1.2.1.4.2.0'\n",
      "\tINTEGER: 8\n",
      "\n",
      "VarBind:\n",
      "\tOID: '1.3.6.1.2.1.4.21.1.8.0.0.0.0'\n",
      "\tINTEGER: 4\n",
      "\n",
      "172.20.10.2\n",
      "VarBind:\n",
      "\tOID: '1.3.6.1.2.1.1.4.0'\n",
      "\tOCTET_STRING: b'SALMA'\n",
      "\n",
      "VarBind:\n",
      "\tOID: '1.3.6.1.2.1.4.2.0'\n",
      "\tINTEGER: 8\n",
      "\n",
      "VarBind:\n",
      "\tOID: '1.3.6.1.2.1.4.21.1.8.0.0.0.0'\n",
      "\tINTEGER: 4\n",
      "\n",
      "Took 0.13599896430969238 seconds\n"
     ]
    },
    {
     "name": "stderr",
     "output_type": "stream",
     "text": [
      "DEBUG:snmp.v1:Listener thread exiting\n",
      "DEBUG:snmp.v1:All helper threads done\n"
     ]
    }
   ],
   "source": [
    "import logging\n",
    "import time\n",
    "import snmp\n",
    "\n",
    "from snmp import Manager\n",
    "from snmp.exceptions import Timeout\n",
    "\n",
    "#uncomment this for verbose output\n",
    "logging.basicConfig(level=logging.DEBUG)\n",
    "\n",
    "def __init__(self, community=None, rwcommunity=None, port=161, resend=1):\n",
    " self.community=community\n",
    " self.rwcommunity=rwcommunity\n",
    " self.port=port\n",
    " self.resend=resend\n",
    "    \n",
    "\n",
    "\n",
    "\n",
    "# REPLACE 'public' with your community string\n",
    "manager = Manager(b'wr')\n",
    "\n",
    "try:\n",
    "    hosts = [\"172.20.10.5\",\"172.20.10.2\"]                    \n",
    "    oids = [\"1.3.6.1.2.1.1.4.0\",\"1.3.6.1.2.1.4.2.0\"]  # [SNMPv2-MIB::sysDescr.0, SNMPv2-MIB::sysName.0]\n",
    "    #oid=[\"1.3.6.1.2.1.1.4.0\",\"1.3.6.1.2.1.4.2.0\"]\n",
    "#\"1.3.6.1.2.1.4.21.1.8\"\n",
    "# \"1.3.6.1.2.1.1.4.0\"\n",
    "# \"1.3.6.1.2.1.4.2.0\",\n",
    "    start = time.time()\n",
    "\n",
    "    #removing this loop will increase run time on average\n",
    "    for host in hosts:\n",
    "        manager.get(host, *oids, block=False, timeout=1)\n",
    "        manager.get(host, \"1.3.6.1.2.1.4.21.1.8\", timeout=1, next=True)\n",
    "        #manager.set(host,\"1.3.6.1.2.1.4.2.0\",b\"hello\"+str(\"salma\").encode('ascii')+b\"\\n\")\n",
    "        manager.set(host, \"1.3.6.1.2.1.4.2.0\",8,timeout=1)\n",
    "        #manager.set(\"172.20.10.2\",\"172.20.10.3\",value=\"nouran\",community = None , block = True , timeout=10)\n",
    "        \n",
    "\n",
    "    for host in hosts:\n",
    "        vars = manager.get(host, *oids)\n",
    "        print(host)\n",
    "        for var in vars:\n",
    "            print(var)\n",
    "\n",
    "        vars = manager.get(host, \"1.3.6.1.2.1.4.21.1.8\", next=True)\n",
    "        for var in vars:\n",
    "            print(var)\n",
    "\n",
    "    end = time.time()\n",
    "    print(\"Took {} seconds\".format(end - start))\n",
    "\n",
    "except Timeout as e:\n",
    "    print(\"Request for {} from host {} timed out\".format(e, host))\n",
    "\n",
    "finally:\n",
    "    manager.close()"
   ]
  },
  {
   "cell_type": "code",
   "execution_count": null,
   "metadata": {},
   "outputs": [],
   "source": []
  },
  {
   "cell_type": "code",
   "execution_count": null,
   "metadata": {},
   "outputs": [],
   "source": []
  }
 ],
 "metadata": {
  "kernelspec": {
   "display_name": "Python 3",
   "language": "python",
   "name": "python3"
  },
  "language_info": {
   "codemirror_mode": {
    "name": "ipython",
    "version": 3
   },
   "file_extension": ".py",
   "mimetype": "text/x-python",
   "name": "python",
   "nbconvert_exporter": "python",
   "pygments_lexer": "ipython3",
   "version": "3.7.6"
  }
 },
 "nbformat": 4,
 "nbformat_minor": 4
}
